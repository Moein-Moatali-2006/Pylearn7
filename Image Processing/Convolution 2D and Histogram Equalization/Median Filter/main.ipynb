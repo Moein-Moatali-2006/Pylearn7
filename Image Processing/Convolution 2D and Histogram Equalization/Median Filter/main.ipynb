{
 "cells": [
  {
   "cell_type": "code",
   "execution_count": 22,
   "metadata": {},
   "outputs": [],
   "source": [
    "import cv2\n",
    "import numpy as np"
   ]
  },
  {
   "cell_type": "code",
   "execution_count": 8,
   "metadata": {},
   "outputs": [
    {
     "data": {
      "text/plain": [
       "True"
      ]
     },
     "execution_count": 8,
     "metadata": {},
     "output_type": "execute_result"
    }
   ],
   "source": [
    "image = cv2.imread(\"input\\celebrate.png\")\n",
    "mask = np.ones(image.shape,dtype=np.uint8) \n",
    "\n",
    "for i in range(1,image.shape[0]-1):\n",
    "    for j in range(1,image.shape[1]-1):\n",
    "        pix_3_3 = image[i-1:i+2,j-1:j+2]\n",
    "        result = np.sort(pix_3_3,axis=None)\n",
    "        mask[i][j] = result[4]\n",
    "\n",
    "cv2.imwrite(\"output/celebrate.png\",mask)\n"
   ]
  },
  {
   "cell_type": "code",
   "execution_count": 49,
   "metadata": {},
   "outputs": [
    {
     "data": {
      "text/plain": [
       "True"
      ]
     },
     "execution_count": 49,
     "metadata": {},
     "output_type": "execute_result"
    }
   ],
   "source": [
    "image = cv2.imread(\"input/x_ray.png\")\n",
    "mask =  cv2.medianBlur(image,5)\n",
    "\n",
    "result = np.hstack((image,mask))\n",
    "cv2.imwrite(\"output/x_ray.png\",result)\n"
   ]
  }
 ],
 "metadata": {
  "kernelspec": {
   "display_name": "Python 3",
   "language": "python",
   "name": "python3"
  },
  "language_info": {
   "codemirror_mode": {
    "name": "ipython",
    "version": 3
   },
   "file_extension": ".py",
   "mimetype": "text/x-python",
   "name": "python",
   "nbconvert_exporter": "python",
   "pygments_lexer": "ipython3",
   "version": "3.11.4"
  }
 },
 "nbformat": 4,
 "nbformat_minor": 2
}
